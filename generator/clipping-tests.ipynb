{
 "cells": [
  {
   "cell_type": "code",
   "execution_count": null,
   "id": "1a141abb",
   "metadata": {},
   "outputs": [
    {
     "data": {
      "image/png": "[encoded data removed]",
      "text/plain": [
       "<Figure size 640x480 with 1 Axes>"
      ]
     },
     "metadata": {},
     "output_type": "display_data"
    }
   ],
   "source": [
    "from shapely.geometry import Polygon\n",
    "from shapely.ops import unary_union\n",
    "import matplotlib.pyplot as plt\n",
    "\n",
    "# Deine ASCII-Map als Grid\n",
    "grid = [\n",
    "    ['┌', '─', '─', '┬', '─', '─', '┬', '─', '┐', ' '],\n",
    "    ['│', ' ', ' ', '│', ' ', ' ', '│', ' ', '│', ' '],\n",
    "    ['│', ' ', ' ', '│', ' ', ' ', '│', ' ', '│', ''],\n",
    "    ['├', '─', '─', '┼', '─', '─', '┴', '─', '┘', ' '],\n",
    "    ['│', ' ', ' ', '│', ' ', ' ', ' ', ' ', ' ', ' '],\n",
    "    ['│', ' ', '┌', '┴', '─', '┐', ' ', '┌', '─', '┐'],\n",
    "    ['└', '┬', '┤', ' ', ' ', '│', ' ', '│', ' ', '│'],\n",
    "    [' ', '│', '│', ' ', ' ', '│', ' ', '│', ' ', '│'],\n",
    "    [' ', '└', '┴', '─', '─', '┴', '─', '┴', '─', '┘'],\n",
    "    [' ', '', ' ', ' ', ' ', ' ', ' ', ' ', ' ', ' '],\n",
    "]\n",
    "cell_size = 1.0\n",
    "margin = 0.15  # halbe Straßenbreite\n",
    "\n",
    "def symbol_to_polygon(i, j, symbol, rows, cols, cell_size=1.0, m=0.1):\n",
    "    x0 = j * cell_size\n",
    "    y0 = (rows - 1 - i) * cell_size\n",
    "    x1 = x0 + cell_size\n",
    "    y1 = y0 + cell_size\n",
    "    xm = x0 + m\n",
    "    xM = x1 - m\n",
    "    ym = y0 + m\n",
    "    yM = y1 - m\n",
    "\n",
    "    if symbol == '─':\n",
    "        return Polygon([(x0, ym), (x1, ym), (x1, yM), (x0, yM)])\n",
    "    elif symbol == '│':\n",
    "        return Polygon([(xm, y0), (xM, y0), (xM, y1), (xm, y1)])\n",
    "    elif symbol == '┌':\n",
    "        return Polygon([(xm, y0), (xM, y0), (xM, ym), (x1, ym), (x1, yM), (xm, yM)])\n",
    "    elif symbol == '┐':\n",
    "        return Polygon([(x0, yM), (xM, yM), (xM, y0), (xm, y0), (xm, ym), (x0, ym)])\n",
    "    elif symbol == '└':\n",
    "        return Polygon([(xm, y1), (xm, ym), (x1, ym), (x1, yM), (xM , yM), (xM, y1)])\n",
    "    elif symbol == '┘':\n",
    "        return Polygon([(x0, ym), (xM, ym), (xM, y1), (xm, y1), (xm, yM), (x0, yM)])\n",
    "    elif symbol == '├':\n",
    "        return Polygon([(xm, y0), (xM, y0), (xM, ym), (x1, ym), (x1, yM), (xM, yM), (xM, y1), (xm, y1)])\n",
    "    elif symbol == '┤':\n",
    "        return Polygon([(xm, y0), (xM, y0), (xM, y1), (xm, y1), (xm, yM), (x0, yM), (x0, ym), (xm, ym)])\n",
    "    elif symbol == '┬':\n",
    "        return Polygon([(x0, ym), (xm, ym), (xm, y0), (xM, y0), (xM, ym), (x1, ym), (x1, yM), (x0, yM)])\n",
    "    elif symbol == '┴':\n",
    "        return Polygon([(x0, ym), (x1, ym), (x1, yM), (xM, yM), (xM, y1), (xm, y1), (xm, yM), (x0, yM)])\n",
    "    elif symbol == '┼':\n",
    "        return Polygon([(xm, y0), (xM, y0), (xM, ym), (x1, ym), (x1, yM), (xM, yM), (xM, y1),\n",
    "                        (xm, y1), (xm, yM), (x0, yM), (x0, ym), (xm, ym)])\n",
    "    return None\n",
    "\n",
    "def ascii_grid_to_polygons(grid, cell_size=1.0, margin=0.1):\n",
    "    rows = len(grid)\n",
    "    cols = len(grid[0])\n",
    "    polygons = []\n",
    "    for i in range(rows):\n",
    "        for j in range(cols):\n",
    "            symbol = grid[i][j]\n",
    "            poly = symbol_to_polygon(i, j, symbol, rows, cols, cell_size, margin)\n",
    "            if poly:\n",
    "                polygons.append(poly)\n",
    "    return polygons\n",
    "\n",
    "def plot_polygons(polygons):\n",
    "    fig, ax = plt.subplots()\n",
    "    for poly in polygons:\n",
    "        x, y = poly.exterior.xy\n",
    "        ax.fill(x, y, alpha=0.5, fc='lightblue', ec='black')\n",
    "    ax.set_aspect('equal')\n",
    "    ax.set_title(\"ASCII Map als Polygon\")\n",
    "    plt.grid(True)\n",
    "    plt.show()\n",
    "\n",
    "# Main-Ausführung\n",
    "polys = ascii_grid_to_polygons(grid, cell_size, margin)\n",
    "plot_polygons(polys)"
   ]
  }
 ],
 "metadata": {
  "kernelspec": {
   "display_name": ".venv",
   "language": "python",
   "name": "python3"
  },
  "language_info": {
   "codemirror_mode": {
    "name": "ipython",
    "version": 3
   },
   "file_extension": ".py",
   "mimetype": "text/x-python",
   "name": "python",
   "nbconvert_exporter": "python",
   "pygments_lexer": "ipython3",
   "version": "3.13.3"
  }
 },
 "nbformat": 4,
 "nbformat_minor": 5
}
